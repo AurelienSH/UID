{
 "cells": [
  {
   "cell_type": "code",
   "execution_count": 4,
   "metadata": {},
   "outputs": [],
   "source": [
    "import uidDoublons\n",
    "import importlib"
   ]
  },
  {
   "cell_type": "code",
   "execution_count": 16,
   "metadata": {},
   "outputs": [
    {
     "data": {
      "text/plain": [
       "<module 'uidDoublons' from '/home/orelsh/Documents/UID/scripts/uidDoublons.py'>"
      ]
     },
     "execution_count": 16,
     "metadata": {},
     "output_type": "execute_result"
    }
   ],
   "source": [
    "importlib.reload(uidDoublons)"
   ]
  },
  {
   "cell_type": "code",
   "execution_count": 6,
   "metadata": {},
   "outputs": [],
   "source": [
    "with open(\"idoc\",\"r\") as f:    \n",
    "    idoc = float(f.readline().strip())"
   ]
  },
  {
   "cell_type": "code",
   "execution_count": 17,
   "metadata": {},
   "outputs": [
    {
     "name": "stdout",
     "output_type": "stream",
     "text": [
      "2\n",
      "[0.041626106947660446, 0.21868813037872314, 0.13419821858406067, 0.44019562005996704, 0.9989610910415649, 0.06540791690349579, 0.10373951494693756, 0.1519297957420349, 0.3639775514602661]\n",
      "[0.13419821858406067, 0.44019562005996704]\n",
      "2\n",
      "[0.041626106947660446, 0.2186860740184784, 0.26419875025749207, 0.9991965889930725, 0.06324605643749237, 0.10461495816707611, 0.16963867843151093, 0.3682786226272583]\n",
      "[0.26419875025749207, 0.9991965889930725]\n",
      "0\n",
      "[0.041626106947660446, 0.21868813037872314]\n",
      "0\n",
      "[0.041626106947660446, 0.2186860740184784]\n"
     ]
    }
   ],
   "source": [
    "that = \"I believe that it isn't a bird.\".split(\" \")\n",
    "nothat = \"I believe it isn't a bird.\".split(\" \")\n",
    "dico = uidDoublons.generate_score_dict({\"that\": that, \"nothat\": nothat},idoc)"
   ]
  },
  {
   "cell_type": "code",
   "execution_count": 18,
   "metadata": {},
   "outputs": [
    {
     "data": {
      "text/plain": [
       "{'var': 0.5759168689301433,\n",
       " 'amp': -0.00023549795150756836,\n",
       " 'igauche2_2': -0.3445017784833908,\n",
       " 'idoc': -0.27193080072076625,\n",
       " 'iphrase': -0.3456732370476756,\n",
       " 'biggestStep': -0.0023973584175109863,\n",
       " 'avgStep': 0.006370714533009698}"
      ]
     },
     "execution_count": 18,
     "metadata": {},
     "output_type": "execute_result"
    }
   ],
   "source": [
    "dico"
   ]
  },
  {
   "cell_type": "code",
   "execution_count": null,
   "metadata": {},
   "outputs": [],
   "source": []
  }
 ],
 "metadata": {
  "kernelspec": {
   "display_name": "venvUID",
   "language": "python",
   "name": "venvuid"
  },
  "language_info": {
   "codemirror_mode": {
    "name": "ipython",
    "version": 3
   },
   "file_extension": ".py",
   "mimetype": "text/x-python",
   "name": "python",
   "nbconvert_exporter": "python",
   "pygments_lexer": "ipython3",
   "version": "3.10.6"
  },
  "orig_nbformat": 4
 },
 "nbformat": 4,
 "nbformat_minor": 2
}
