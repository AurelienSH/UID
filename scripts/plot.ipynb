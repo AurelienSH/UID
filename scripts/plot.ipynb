{
 "cells": [
  {
   "cell_type": "code",
   "execution_count": 1,
   "metadata": {
    "collapsed": true
   },
   "outputs": [],
   "source": [
    "import pandas as pd\n",
    "import numpy as np\n",
    "import matplotlib as plt"
   ]
  },
  {
   "cell_type": "code",
   "execution_count": 2,
   "outputs": [],
   "source": [
    "df = pd.read_csv('../modeling/bigdata.csv')"
   ],
   "metadata": {
    "collapsed": false
   }
  },
  {
   "cell_type": "code",
   "execution_count": 3,
   "outputs": [
    {
     "data": {
      "text/plain": "4797"
     },
     "execution_count": 3,
     "metadata": {},
     "output_type": "execute_result"
    }
   ],
   "source": [
    "len(df)"
   ],
   "metadata": {
    "collapsed": false
   }
  },
  {
   "cell_type": "code",
   "execution_count": 4,
   "outputs": [],
   "source": [
    "df = pd.read_csv(\"bigreal.csv\")"
   ],
   "metadata": {
    "collapsed": false
   }
  },
  {
   "cell_type": "code",
   "execution_count": 5,
   "outputs": [],
   "source": [
    "df['logomission'] = -np.log(df['taux d\\'omission'])"
   ],
   "metadata": {
    "collapsed": false
   }
  },
  {
   "cell_type": "code",
   "execution_count": 6,
   "outputs": [
    {
     "data": {
      "text/plain": "<Figure size 640x480 with 1 Axes>",
      "image/png": "[encoded data removed]"
     },
     "metadata": {},
     "output_type": "display_data"
    }
   ],
   "source": [
    "ax = df.plot.scatter(x='uid', y='logomission', c='DarkBlue')"
   ],
   "metadata": {
    "collapsed": false
   }
  },
  {
   "cell_type": "code",
   "execution_count": 7,
   "outputs": [],
   "source": [
    "big = pd.read_csv(\"big_cc_exploration.tsv\", sep=\"\\t\", header=0)"
   ],
   "metadata": {
    "collapsed": false
   }
  },
  {
   "cell_type": "code",
   "execution_count": 8,
   "outputs": [
    {
     "data": {
      "text/plain": "      lemma:id cchead:id  that  \\\n0      tell:19   much:22     0   \n1       know:5    Los:10     0   \n2       tell:2    have:6     0   \n3       know:4      be:7     0   \n4  determine:6    use:10     0   \n\n                                            sentence  \n0   again i will repeat i want to make a one way ...  \n1   i would like to know what airports are in los...  \n2   please tell me which airline has the most dep...  \n3   i need to know if there are any direct flight...  \n4   sure i 'd like to determine what aircraft are...  ",
      "text/html": "<div>\n<style scoped>\n    .dataframe tbody tr th:only-of-type {\n        vertical-align: middle;\n    }\n\n    .dataframe tbody tr th {\n        vertical-align: top;\n    }\n\n    .dataframe thead th {\n        text-align: right;\n    }\n</style>\n<table border=\"1\" class=\"dataframe\">\n  <thead>\n    <tr style=\"text-align: right;\">\n      <th></th>\n      <th>lemma:id</th>\n      <th>cchead:id</th>\n      <th>that</th>\n      <th>sentence</th>\n    </tr>\n  </thead>\n  <tbody>\n    <tr>\n      <th>0</th>\n      <td>tell:19</td>\n      <td>much:22</td>\n      <td>0</td>\n      <td>again i will repeat i want to make a one way ...</td>\n    </tr>\n    <tr>\n      <th>1</th>\n      <td>know:5</td>\n      <td>Los:10</td>\n      <td>0</td>\n      <td>i would like to know what airports are in los...</td>\n    </tr>\n    <tr>\n      <th>2</th>\n      <td>tell:2</td>\n      <td>have:6</td>\n      <td>0</td>\n      <td>please tell me which airline has the most dep...</td>\n    </tr>\n    <tr>\n      <th>3</th>\n      <td>know:4</td>\n      <td>be:7</td>\n      <td>0</td>\n      <td>i need to know if there are any direct flight...</td>\n    </tr>\n    <tr>\n      <th>4</th>\n      <td>determine:6</td>\n      <td>use:10</td>\n      <td>0</td>\n      <td>sure i 'd like to determine what aircraft are...</td>\n    </tr>\n  </tbody>\n</table>\n</div>"
     },
     "execution_count": 8,
     "metadata": {},
     "output_type": "execute_result"
    }
   ],
   "source": [
    "big.head()"
   ],
   "metadata": {
    "collapsed": false
   }
  }
 ],
 "metadata": {
  "kernelspec": {
   "display_name": "Python 3",
   "language": "python",
   "name": "python3"
  },
  "language_info": {
   "codemirror_mode": {
    "name": "ipython",
    "version": 2
   },
   "file_extension": ".py",
   "mimetype": "text/x-python",
   "name": "python",
   "nbconvert_exporter": "python",
   "pygments_lexer": "ipython2",
   "version": "2.7.6"
  }
 },
 "nbformat": 4,
 "nbformat_minor": 0
}
