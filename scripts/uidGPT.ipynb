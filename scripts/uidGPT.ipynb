{
 "cells": [
  {
   "cell_type": "code",
   "execution_count": 0,
   "metadata": {
    "collapsed": true
   },
   "outputs": [],
   "source": [
    "from transformers import GPT2Tokenizer, GPT2Model\n",
    "\n",
    "# Load the pre-trained GPT-2 tokenizer and model\n",
    "tokenizer = GPT2Tokenizer.from_pretrained('gpt2-medium')\n",
    "model = GPT2Model.from_pretrained('gpt2-medium')"
   ]
  },
  {
   "cell_type": "code",
   "execution_count": null,
   "outputs": [],
   "source": [
    "import torch"
   ],
   "metadata": {
    "collapsed": false
   }
  },
  {
   "cell_type": "code",
   "execution_count": 10,
   "outputs": [],
   "source": [
    "# Define the input sentence\n",
    "input_sentence = 'Hello I am a man'\n",
    "\n",
    "# Tokenize the input sentence\n",
    "input_ids = tokenizer.encode(input_sentence, return_tensors='pt')"
   ],
   "metadata": {
    "collapsed": false
   }
  },
  {
   "cell_type": "code",
   "execution_count": null,
   "outputs": [],
   "source": [],
   "metadata": {
    "collapsed": false
   }
  },
  {
   "cell_type": "code",
   "execution_count": 12,
   "outputs": [
    {
     "name": "stdout",
     "output_type": "stream",
     "text": [
      "Token: Hello\n",
      "Logit: -62.537235260009766\n",
      "Probability: 0.0005615773261524737\n",
      "Token: I\n",
      "Logit: -93.89395904541016\n",
      "Probability: 8.078628525254317e-06\n",
      "Token: am\n",
      "Logit: -88.47907257080078\n",
      "Probability: 5.0811927394533996e-06\n",
      "Token: a\n",
      "Logit: -74.59211730957031\n",
      "Probability: 6.097152891015867e-06\n",
      "Token: man\n",
      "Logit: -77.46145629882812\n",
      "Probability: 1.7511711121187545e-05\n"
     ]
    }
   ],
   "source": [
    "# Get the logits for each token in the input sentence\n",
    "with torch.no_grad():\n",
    "    outputs = model(input_ids)\n",
    "    logits = outputs[0][0]\n",
    "\n",
    "# Convert the logits to probabilities\n",
    "probs = torch.softmax(logits, dim=-1)\n",
    "\n",
    "# Print the logits and probabilities for each token in the input sentence\n",
    "for i, token in enumerate(input_sentence.split()):\n",
    "    token_id = tokenizer.convert_tokens_to_ids(token)\n",
    "    logit = logits[i][token_id].item()\n",
    "    prob = probs[i][token_id].item()\n",
    "    print('Token:', token)\n",
    "    print('Logit:', logit)\n",
    "    print('Probability:', prob)\n"
   ],
   "metadata": {
    "collapsed": false
   }
  },
  {
   "cell_type": "code",
   "execution_count": 4,
   "outputs": [],
   "source": [],
   "metadata": {
    "collapsed": false
   }
  },
  {
   "cell_type": "code",
   "execution_count": 5,
   "outputs": [],
   "source": [
    "input_sentence = \"I think\"\n",
    "input_ids = tokenizer.encode(input_sentence, return_tensors='pt')"
   ],
   "metadata": {
    "collapsed": false
   }
  },
  {
   "cell_type": "code",
   "execution_count": 6,
   "outputs": [],
   "source": [
    "next_token_logits = model(input_ids)[0][:, -1, :]\n",
    "probs = next_token_logits.softmax(dim=-1)"
   ],
   "metadata": {
    "collapsed": false
   }
  },
  {
   "cell_type": "code",
   "execution_count": null,
   "outputs": [],
   "source": [],
   "metadata": {
    "collapsed": false
   }
  },
  {
   "cell_type": "code",
   "execution_count": 20,
   "outputs": [],
   "source": [
    "next_token = torch.argmax(probs, dim=-1)"
   ],
   "metadata": {
    "collapsed": false
   }
  },
  {
   "cell_type": "code",
   "execution_count": 21,
   "outputs": [],
   "source": [
    "k = 5\n",
    "topk_tokens = torch.topk(probs, k=k, dim=-1).indices"
   ],
   "metadata": {
    "collapsed": false
   }
  },
  {
   "cell_type": "code",
   "execution_count": 22,
   "outputs": [
    {
     "data": {
      "text/plain": "tensor([[340, 326, 356, 262, 314]])"
     },
     "execution_count": 22,
     "metadata": {},
     "output_type": "execute_result"
    }
   ],
   "source": [
    "topk_tokens"
   ],
   "metadata": {
    "collapsed": false
   }
  },
  {
   "cell_type": "code",
   "execution_count": 23,
   "outputs": [],
   "source": [
    "topk_token_forms = tokenizer.convert_ids_to_tokens(topk_tokens[0].tolist())"
   ],
   "metadata": {
    "collapsed": false
   }
  },
  {
   "cell_type": "code",
   "execution_count": 24,
   "outputs": [
    {
     "name": "stdout",
     "output_type": "stream",
     "text": [
      "Token form 0: Ġit\n",
      "Token form 1: Ġthat\n",
      "Token form 2: Ġwe\n",
      "Token form 3: Ġthe\n",
      "Token form 4: ĠI\n"
     ]
    }
   ],
   "source": [
    "for i in range(k):\n",
    "    token_form = tokenizer.convert_ids_to_tokens(topk_tokens[0][i].item())\n",
    "    print(f\"Token form {i}: {token_form}\")"
   ],
   "metadata": {
    "collapsed": false
   }
  },
  {
   "cell_type": "code",
   "execution_count": null,
   "outputs": [],
   "source": [],
   "metadata": {
    "collapsed": false
   }
  }
 ],
 "metadata": {
  "kernelspec": {
   "display_name": "Python 3",
   "language": "python",
   "name": "python3"
  },
  "language_info": {
   "codemirror_mode": {
    "name": "ipython",
    "version": 2
   },
   "file_extension": ".py",
   "mimetype": "text/x-python",
   "name": "python",
   "nbconvert_exporter": "python",
   "pygments_lexer": "ipython2",
   "version": "2.7.6"
  }
 },
 "nbformat": 4,
 "nbformat_minor": 0
}
