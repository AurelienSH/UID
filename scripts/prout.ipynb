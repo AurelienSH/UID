{
 "cells": [
  {
   "cell_type": "code",
   "execution_count": 1,
   "metadata": {},
   "outputs": [],
   "source": [
    "import pandas as pd"
   ]
  },
  {
   "cell_type": "code",
   "execution_count": 4,
   "metadata": {},
   "outputs": [],
   "source": [
    "df = pd.read_csv(\"../modeling/gpt_gum_nofrac.csv\", sep=\",\", index_col=0)\n",
    "data_dict = df.to_dict()"
   ]
  },
  {
   "cell_type": "code",
   "execution_count": 5,
   "metadata": {},
   "outputs": [
    {
     "data": {
      "text/plain": [
       "dict_keys(['length_CC_remainder', 'm_verb', 'matrix_subject1v3', 'that_omission', 'subject_form_CC_subject1v2', 'uid_iphrase', 'word_form_similarity', 'uid_avgStep', 'length_CC_onset', 'frequency_CC_subject_head', 'subject_form_CC_subject1v3', 'uid_var', 'uid_biggestStep', 'mverb', 'matrix_subject1v4', 'subject_form_CC_subject1v4', 'uid_jaeger', 'uid_amp', 'text', 'length_matrix_verb_to_CC', 'frequency_matrix_verb', 'uid_idoc', 'position_matrix_verb', 'uid_igauche2_2'])"
      ]
     },
     "execution_count": 5,
     "metadata": {},
     "output_type": "execute_result"
    }
   ],
   "source": [
    "data_dict.keys()"
   ]
  },
  {
   "cell_type": "code",
   "execution_count": null,
   "metadata": {},
   "outputs": [],
   "source": []
  }
 ],
 "metadata": {
  "kernelspec": {
   "display_name": "venvUID",
   "language": "python",
   "name": "venvuid"
  },
  "language_info": {
   "codemirror_mode": {
    "name": "ipython",
    "version": 3
   },
   "file_extension": ".py",
   "mimetype": "text/x-python",
   "name": "python",
   "nbconvert_exporter": "python",
   "pygments_lexer": "ipython3",
   "version": "3.10.6"
  },
  "orig_nbformat": 4
 },
 "nbformat": 4,
 "nbformat_minor": 2
}
